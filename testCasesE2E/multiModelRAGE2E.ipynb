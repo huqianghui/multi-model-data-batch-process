{
 "cells": [
  {
   "cell_type": "code",
   "execution_count": 1,
   "metadata": {},
   "outputs": [],
   "source": [
    "import logging\n",
    "import os\n",
    "import nest_asyncio\n",
    "\n",
    "nest_asyncio.apply()\n",
    "\n",
    "\n",
    "from dotenv import load_dotenv\n",
    "from openai import AsyncAzureOpenAI\n",
    "\n",
    "logging.basicConfig(level=logging.INFO, format='%(asctime)s - %(levelname)s - %(message)s')\n",
    "\n",
    "load_dotenv(verbose=True)\n",
    "\n",
    "api_base = os.getenv(\"AZURE_OPENAI_ENDPOINT\")\n",
    "api_key= os.getenv(\"AZURE_OPENAI_API_KEY\")\n",
    "deployment_name = 'gpt-4o'\n",
    "api_version = '2024-02-15-preview' # this might change in the future\n",
    "\n",
    "aAzureOpenclient =  AsyncAzureOpenAI(\n",
    "        api_key=api_key,  \n",
    "        api_version=api_version,\n",
    "        base_url=f\"{api_base}/openai/deployments/{deployment_name}\"\n",
    "    )"
   ]
  },
  {
   "cell_type": "markdown",
   "metadata": {},
   "source": [
    "\n"
   ]
  },
  {
   "cell_type": "code",
   "execution_count": null,
   "metadata": {},
   "outputs": [],
   "source": [
    "systemPrompt = { \"role\": \n",
    "                        \"system\", \n",
    "                \"content\": '''\n",
    "                            You are a helpful assistant and you are a good video player. \n",
    "                            You know teh video games very well. You can give professional answer about video game's questions or screenshots. \n",
    "                            But you have answer the question or screenshot or enrich the content based on the given context and images.\n",
    "                            The context format is a list which contain a few  like this:\n",
    "                            \n",
    "                            context1：\n",
    "                                \"caption\": \"The caption of the image\",\n",
    "                                \"content\": \"The content of the image\",\n",
    "                                \"ocrContent\": \"The ocr content of the image\"\n",
    "                                \"images\": \"https://url1\"\n",
    "\n",
    "                            -----\n",
    "                            context2：\n",
    "                                \"caption\": \"The caption of the image\",\n",
    "                                \"content\": \"The content of the image\",\n",
    "                                \"ocrContent\": \"The ocr content of the image\"\n",
    "                                \"images\": \"https://url2\"\n",
    "\n",
    "                            -----\n",
    "                            context3：\n",
    "                                \"caption\": \"The caption of the image\",\n",
    "                                \"content\": \"The content of the image\",\n",
    "                                \"ocrContent\": \"The ocr content of the image\"\n",
    "                                \"images\": \"https://url3\"\n",
    "                                \n",
    "                            You can use the caption,content and ocrContent to answer the question if they are related to the question.\n",
    "                            And if you choose them to answer the question, you should return the related images url.\n",
    "                            The response should be json format, have two parts: answer and related images url.\n",
    "                            like this:\n",
    "                            {\n",
    "                                \"answer\": \"The answer of the question\",\n",
    "                                \"images\": [\"https://url1\", \"https://url2\"]\n",
    "                            }\n",
    "                        ''' \n",
    "                }\n"
   ]
  },
  {
   "cell_type": "code",
   "execution_count": 22,
   "metadata": {},
   "outputs": [],
   "source": [
    "systemPrompt = { \"role\": \n",
    "                        \"system\", \n",
    "                \"content\": '''\n",
    "                            You are a helpful assistant and you are a good video player. \n",
    "                            You know teh video games very well. You can give professional answer about video game's questions or screenshots. \n",
    "                            But you have answer the question or screenshot or enrich the content based on the given context and images.\n",
    "                            The context format is a list which contain a few  like this:\n",
    "                            \n",
    "                            context1：\n",
    "                                \"caption\": \"The caption of the image\",\n",
    "                                \"content\": \"The content of the image\",\n",
    "                                \"ocrContent\": \"The ocr content of the image\"\n",
    "                                \"images\": \"https://url1\"\n",
    "\n",
    "                            -----\n",
    "                            context2：\n",
    "                                \"caption\": \"The caption of the image\",\n",
    "                                \"content\": \"The content of the image\",\n",
    "                                \"ocrContent\": \"The ocr content of the image\"\n",
    "                                \"images\": \"https://url2\"\n",
    "\n",
    "                            -----\n",
    "                            context3：\n",
    "                                \"caption\": \"The caption of the image\",\n",
    "                                \"content\": \"The content of the image\",\n",
    "                                \"ocrContent\": \"The ocr content of the image\"\n",
    "                                \"images\": \"https://url3\"\n",
    "                                \n",
    "                            You can use the caption,content and ocrContent to answer the question if they are related to the question.\n",
    "                            And if you choose them to answer the question, you should return the related images url.\n",
    "                        ''' \n",
    "                }\n",
    "\n",
    "from pydantic import BaseModel\n",
    "\n",
    "class MultiModelResult(BaseModel):\n",
    "    answer:str\n",
    "    images:list[str]"
   ]
  },
  {
   "cell_type": "code",
   "execution_count": 13,
   "metadata": {},
   "outputs": [],
   "source": [
    "import sys\n",
    "\n",
    "# 假设 multiModelsEmbedding.py 文件在项目的根目录\n",
    "sys.path.append(os.path.abspath(\"/Users/huqianghui/Downloads/git_temp/multi-model-data-process/\"))\n",
    "\n",
    "\n",
    "from search_utils import get_search_results_by_image_and_text,get_search_results_by_text,get_search_results_by_image"
   ]
  },
  {
   "cell_type": "markdown",
   "metadata": {},
   "source": [
    "##### query text only"
   ]
  },
  {
   "cell_type": "code",
   "execution_count": 14,
   "metadata": {},
   "outputs": [],
   "source": [
    "queryText = \"DNF手游伤害为什么是黄字？\""
   ]
  },
  {
   "cell_type": "code",
   "execution_count": 24,
   "metadata": {},
   "outputs": [
    {
     "name": "stderr",
     "output_type": "stream",
     "text": [
      "2024-09-04 10:40:28,065 - INFO - HTTP Request: POST https://openai-hu-non-product-test.openai.azure.com//openai/deployments/text-embedding-ada-002/embeddings?api-version=2024-02-01 \"HTTP/1.1 200 OK\"\n",
      "2024-09-04 10:40:28,070 - INFO - Getting text embedding for DNF手游伤害为什么是黄字？\n",
      "2024-09-04 10:40:29,300 - INFO - Request URL: 'https://ai-search-hu-west-us-3.search.windows.net/indexes('multi-model-index-zh-cn')/docs/search.post.search?api-version=REDACTED'\n",
      "Request method: 'POST'\n",
      "Request headers:\n",
      "    'Content-Type': 'application/json'\n",
      "    'Content-Length': '48876'\n",
      "    'api-key': 'REDACTED'\n",
      "    'Accept': 'application/json;odata.metadata=none'\n",
      "    'x-ms-client-request-id': '0c576d30-6a67-11ef-a4e7-aee50117d95a'\n",
      "    'User-Agent': 'azsdk-python-search-documents/11.6.0b4 Python/3.11.9 (macOS-14.6.1-arm64-arm-64bit)'\n",
      "A body is sent with the request\n",
      "2024-09-04 10:40:31,209 - INFO - Response status: 200\n",
      "Response headers:\n",
      "    'Transfer-Encoding': 'chunked'\n",
      "    'Content-Type': 'application/json; odata.metadata=none; odata.streaming=true; charset=utf-8'\n",
      "    'Content-Encoding': 'REDACTED'\n",
      "    'Vary': 'REDACTED'\n",
      "    'Server': 'Microsoft-IIS/10.0'\n",
      "    'Strict-Transport-Security': 'REDACTED'\n",
      "    'Preference-Applied': 'REDACTED'\n",
      "    'OData-Version': 'REDACTED'\n",
      "    'request-id': '0c576d30-6a67-11ef-a4e7-aee50117d95a'\n",
      "    'elapsed-time': 'REDACTED'\n",
      "    'Date': 'Wed, 04 Sep 2024 02:40:30 GMT'\n",
      "2024-09-04 10:40:37,321 - INFO - HTTP Request: POST https://openai-hu-non-product-test.openai.azure.com//openai/deployments/gpt-4o/chat/completions?api-version=2024-02-15-preview \"HTTP/1.1 200 OK\"\n"
     ]
    },
    {
     "data": {
      "text/markdown": [
       "**Answer:**\n",
       "\n",
       "在DNF手游中，\"黄字伤害\"指的是通过装备或技能等附加的攻击力增加。根据上下文，黄字伤害通常表示直接增加在主要伤害中的数字（例如，100攻击增加5%就是105）。这种伤害显示为\"黄字\"，而不是独立于主伤害的\"白字\"附加伤害。\n",
       "\n",
       "如果有任何疑问，欢迎继续提问！"
      ],
      "text/plain": [
       "<IPython.core.display.Markdown object>"
      ]
     },
     "metadata": {},
     "output_type": "display_data"
    },
    {
     "data": {
      "text/html": [
       "<img src=\"https://img2.tapimg.com/moment/etag/FvhNYMQT78nnCjAvBqHvY40FcH46.jpeg\"/>"
      ],
      "text/plain": [
       "<IPython.core.display.Image object>"
      ]
     },
     "metadata": {},
     "output_type": "display_data"
    }
   ],
   "source": [
    "results = await get_search_results_by_text(queryText)\n",
    "\n",
    "conext = \"\"\n",
    "for i, result in enumerate(results, start=1):\n",
    "    conext += f\"context{i}：\\n\\n\"\n",
    "    conext += f\"caption:\\n{result['caption']}\\n\\n\"\n",
    "    conext += f\"content:\\n{result['content']}\\n\\n\"\n",
    "    conext += f\"ocrContent:\\n{result['ocrContent']}\\n\\n\"\n",
    "    conext += f\"imageUrl:\\n{result['imageUrl']}\\n\\n\"\n",
    "    conext += \"-------\\n\\n\"\n",
    "\n",
    "userPrompt = ''' user question is : {queryText} \n",
    "\n",
    "                answer the question based the context: {context}\n",
    "'''.format(queryText=queryText,context=conext)\n",
    "\n",
    "response = await aAzureOpenclient.beta.chat.completions.parse(\n",
    "        model=deployment_name,\n",
    "        response_format=MultiModelResult,\n",
    "        messages=[\n",
    "            systemPrompt,\n",
    "            { \"role\": \"user\", \"content\": [  \n",
    "                { \n",
    "                    \"type\": \"text\", \n",
    "                    \"text\": userPrompt\n",
    "                }\n",
    "            ] } \n",
    "        ],\n",
    "        max_tokens=800 \n",
    "    )\n",
    "\n",
    "result = response.choices[0].message.content\n",
    "\n",
    "from IPython.display import display, Image, Markdown\n",
    "import json\n",
    "\n",
    "resultDict = json.loads(result)\n",
    "answer = resultDict['answer']\n",
    "image_urls = resultDict['images']\n",
    "\n",
    "# 显示答案文本\n",
    "display(Markdown(f\"**Answer:**\\n\\n{answer}\"))\n",
    "\n",
    "# 显示图像\n",
    "for url in image_urls:\n",
    "    display(Image(url=url))\n"
   ]
  },
  {
   "cell_type": "markdown",
   "metadata": {},
   "source": [
    "#### query text & image"
   ]
  },
  {
   "cell_type": "code",
   "execution_count": 25,
   "metadata": {},
   "outputs": [],
   "source": [
    "queryText = \"DNF手游伤害为什么是黄字？\"\n",
    "picture_url = \"https://img2.tapimg.com/moment/etag/FvhNYMQT78nnCjAvBqHvY40FcH46.jpeg\""
   ]
  },
  {
   "cell_type": "markdown",
   "metadata": {},
   "source": [
    "#### 从 AI Search 获取到相关内容，组装成prompt里面的context"
   ]
  },
  {
   "cell_type": "code",
   "execution_count": 26,
   "metadata": {},
   "outputs": [
    {
     "name": "stderr",
     "output_type": "stream",
     "text": [
      "2024-09-04 10:41:51,757 - INFO - HTTP Request: POST https://openai-hu-non-product-test.openai.azure.com//openai/deployments/text-embedding-ada-002/embeddings?api-version=2024-02-01 \"HTTP/1.1 200 OK\"\n",
      "2024-09-04 10:41:51,760 - INFO - Getting picture embedding for https://img2.tapimg.com/moment/etag/FvhNYMQT78nnCjAvBqHvY40FcH46.jpeg\n",
      "2024-09-04 10:41:54,295 - INFO - Request URL: 'https://ai-search-hu-west-us-3.search.windows.net/indexes('multi-model-index-zh-cn')/docs/search.post.search?api-version=REDACTED'\n",
      "Request method: 'POST'\n",
      "Request headers:\n",
      "    'Content-Type': 'application/json'\n",
      "    'Content-Length': '47039'\n",
      "    'api-key': 'REDACTED'\n",
      "    'Accept': 'application/json;odata.metadata=none'\n",
      "    'x-ms-client-request-id': '3f00a436-6a67-11ef-a4e7-aee50117d95a'\n",
      "    'User-Agent': 'azsdk-python-search-documents/11.6.0b4 Python/3.11.9 (macOS-14.6.1-arm64-arm-64bit)'\n",
      "A body is sent with the request\n",
      "2024-09-04 10:41:56,101 - INFO - Response status: 200\n",
      "Response headers:\n",
      "    'Transfer-Encoding': 'chunked'\n",
      "    'Content-Type': 'application/json; odata.metadata=none; odata.streaming=true; charset=utf-8'\n",
      "    'Content-Encoding': 'REDACTED'\n",
      "    'Vary': 'REDACTED'\n",
      "    'Server': 'Microsoft-IIS/10.0'\n",
      "    'Strict-Transport-Security': 'REDACTED'\n",
      "    'Preference-Applied': 'REDACTED'\n",
      "    'OData-Version': 'REDACTED'\n",
      "    'request-id': '3f00a436-6a67-11ef-a4e7-aee50117d95a'\n",
      "    'elapsed-time': 'REDACTED'\n",
      "    'Date': 'Wed, 04 Sep 2024 02:41:56 GMT'\n"
     ]
    }
   ],
   "source": [
    "\n",
    "results = await get_search_results_by_image_and_text(picture_url,queryText)\n",
    "\n",
    "conext = \"\"\n",
    "for i, result in enumerate(results, start=1):\n",
    "    conext += f\"context{i}：\\n\\n\"\n",
    "    conext += f\"caption:\\n{result['caption']}\\n\\n\"\n",
    "    conext += f\"content:\\n{result['content']}\\n\\n\"\n",
    "    conext += f\"ocrContent:\\n{result['ocrContent']}\\n\\n\"\n",
    "    conext += f\"imageUrl:\\n{result['imageUrl']}\\n\\n\"\n",
    "    conext += \"-------\\n\\n\""
   ]
  },
  {
   "cell_type": "code",
   "execution_count": 27,
   "metadata": {},
   "outputs": [],
   "source": [
    "userPrompt = ''' user question is : {queryText} \n",
    "                and with the image.\n",
    "\n",
    "                answer the question based context is : {context}\n",
    "'''.format(queryText=queryText,context=conext)"
   ]
  },
  {
   "cell_type": "code",
   "execution_count": 29,
   "metadata": {},
   "outputs": [
    {
     "name": "stderr",
     "output_type": "stream",
     "text": [
      "2024-09-04 10:43:02,758 - INFO - HTTP Request: POST https://openai-hu-non-product-test.openai.azure.com//openai/deployments/gpt-4o/chat/completions?api-version=2024-02-15-preview \"HTTP/1.1 200 OK\"\n"
     ]
    },
    {
     "name": "stdout",
     "output_type": "stream",
     "text": [
      "answer='在DNF手游中，伤害以黄字显示的原因是因为这些伤害属于“攻击增加伤害”类别。这意味着，这些增加的伤害直接计算在主要伤害数值中。例如，如果你有100攻击力，增加5%的黄字伤害后，最终展示的主要伤害就是105。这种展示方式与附加属性伤害以白字显示的不同，后者在主要伤害下单独列出。' images=['https://img2.tapimg.com/moment/etag/FvhNYMQT78nnCjAvBqHvY40FcH46.jpeg']\n"
     ]
    }
   ],
   "source": [
    "response = await aAzureOpenclient.beta.chat.completions.parse(\n",
    "        model=deployment_name,\n",
    "        messages=[\n",
    "            systemPrompt,\n",
    "            { \"role\": \"user\", \"content\": [  \n",
    "                { \n",
    "                    \"type\": \"text\", \n",
    "                    \"text\": userPrompt\n",
    "                },\n",
    "                { \n",
    "                    \"type\": \"image_url\",\n",
    "                    \"image_url\": {\n",
    "                        \"url\": picture_url\n",
    "                    }\n",
    "                }\n",
    "            ] } \n",
    "        ],\n",
    "        response_format = MultiModelResult,\n",
    "        max_tokens=800 \n",
    "    )\n",
    "\n",
    "result = response.choices[0].message.parsed\n",
    "print(result)     \n",
    "    "
   ]
  },
  {
   "cell_type": "code",
   "execution_count": 31,
   "metadata": {},
   "outputs": [
    {
     "name": "stderr",
     "output_type": "stream",
     "text": [
      "2024-09-04 10:45:02,776 - INFO - HTTP Request: POST https://openai-hu-non-product-test.openai.azure.com//openai/deployments/gpt-4o/chat/completions?api-version=2024-02-15-preview \"HTTP/1.1 200 OK\"\n"
     ]
    },
    {
     "name": "stdout",
     "output_type": "stream",
     "text": [
      "answer='在DNF手游中，伤害数值以黄字显示是因为这种词条代表攻击增加伤害，直接作用在主伤害数字上。例如，如果你有100点攻击力，并增加了5%的伤害，那么主伤害显示就是105。这区别于白字，白字是在主伤害数字下方额外显示的属性伤害。这种差别在游戏设计中用于区分伤害类型，以便玩家调整和优化自己的角色输出策略。' images=['https://img2.tapimg.com/moment/etag/FvhNYMQT78nnCjAvBqHvY40FcH46.jpeg']\n"
     ]
    }
   ],
   "source": [
    "\n",
    "\n",
    "response = await aAzureOpenclient.beta.chat.completions.parse(\n",
    "        model=deployment_name,\n",
    "        response_format=MultiModelResult,\n",
    "        messages=[\n",
    "            systemPrompt,\n",
    "            { \"role\": \"user\", \"content\": [  \n",
    "                { \n",
    "                    \"type\": \"text\", \n",
    "                    \"text\": userPrompt\n",
    "                },\n",
    "                { \n",
    "                    \"type\": \"image_url\",\n",
    "                    \"image_url\": {\n",
    "                        \"url\": picture_url\n",
    "                    }\n",
    "                }\n",
    "            ] } \n",
    "        ],\n",
    "        max_tokens=800 \n",
    "    )\n",
    "\n",
    "result = response.choices[0].message.parsed\n",
    "print(result)"
   ]
  },
  {
   "cell_type": "code",
   "execution_count": 32,
   "metadata": {},
   "outputs": [
    {
     "data": {
      "text/markdown": [
       "**Answer:**\n",
       "\n",
       "在DNF手游中，伤害数值以黄字显示是因为这种词条代表攻击增加伤害，直接作用在主伤害数字上。例如，如果你有100点攻击力，并增加了5%的伤害，那么主伤害显示就是105。这区别于白字，白字是在主伤害数字下方额外显示的属性伤害。这种差别在游戏设计中用于区分伤害类型，以便玩家调整和优化自己的角色输出策略。"
      ],
      "text/plain": [
       "<IPython.core.display.Markdown object>"
      ]
     },
     "metadata": {},
     "output_type": "display_data"
    },
    {
     "data": {
      "text/html": [
       "<img src=\"https://img2.tapimg.com/moment/etag/FvhNYMQT78nnCjAvBqHvY40FcH46.jpeg\"/>"
      ],
      "text/plain": [
       "<IPython.core.display.Image object>"
      ]
     },
     "metadata": {},
     "output_type": "display_data"
    }
   ],
   "source": [
    "from IPython.display import display, Image, Markdown\n",
    "\n",
    "answer = result.answer\n",
    "image_urls = result.images\n",
    "\n",
    "# 显示答案文本\n",
    "display(Markdown(f\"**Answer:**\\n\\n{answer}\"))\n",
    "\n",
    "# 显示图像\n",
    "for url in image_urls:\n",
    "    display(Image(url=url))"
   ]
  }
 ],
 "metadata": {
  "kernelspec": {
   "display_name": ".venv",
   "language": "python",
   "name": "python3"
  },
  "language_info": {
   "codemirror_mode": {
    "name": "ipython",
    "version": 3
   },
   "file_extension": ".py",
   "mimetype": "text/x-python",
   "name": "python",
   "nbconvert_exporter": "python",
   "pygments_lexer": "ipython3",
   "version": "3.11.9"
  }
 },
 "nbformat": 4,
 "nbformat_minor": 2
}
